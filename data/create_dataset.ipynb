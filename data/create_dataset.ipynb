{
 "cells": [
  {
   "cell_type": "markdown",
   "metadata": {},
   "source": [
    "# Imports"
   ]
  },
  {
   "cell_type": "code",
   "execution_count": 1,
   "metadata": {},
   "outputs": [],
   "source": [
    "import pandas as pd\n",
    "import numpy as np\n",
    "import random"
   ]
  },
  {
   "cell_type": "code",
   "execution_count": null,
   "metadata": {},
   "outputs": [],
   "source": [
    "# Constantes\n",
    "SEED = 42\n",
    "random.seed(SEED)"
   ]
  },
  {
   "cell_type": "markdown",
   "metadata": {},
   "source": [
    "# Preprocesar los datasets KT3 y KT1"
   ]
  },
  {
   "cell_type": "code",
   "execution_count": 3,
   "metadata": {},
   "outputs": [],
   "source": [
    "kt3_df = pd.read_csv(\"./kt3_df.csv\")"
   ]
  },
  {
   "cell_type": "code",
   "execution_count": 4,
   "metadata": {},
   "outputs": [],
   "source": [
    "# Definir una función para determinar el valor de answered_correctly\n",
    "def calculate_answered_correctly(row):\n",
    "    if pd.isnull(row['user_answer']) or pd.isnull(row['correct_answer']):\n",
    "        return -1\n",
    "    elif row['user_answer'] == row['correct_answer']:\n",
    "        return 1\n",
    "    else:\n",
    "        return 0\n",
    "\n",
    "# Aplicar la función a cada fila del DataFrame df\n",
    "kt3_df['answered_correctly'] = kt3_df[kt3_df[\"content_type\"] == \"q\"].apply(calculate_answered_correctly, axis=1)\n",
    "kt3_df = kt3_df.drop(columns=[\"correct_answer\"])"
   ]
  },
  {
   "cell_type": "code",
   "execution_count": 5,
   "metadata": {},
   "outputs": [
    {
     "data": {
      "text/plain": [
       "answered_correctly\n",
       "1.0    392463\n",
       "0.0    294699\n",
       "Name: count, dtype: int64"
      ]
     },
     "execution_count": 5,
     "metadata": {},
     "output_type": "execute_result"
    }
   ],
   "source": [
    "kt3_df['answered_correctly'].value_counts()"
   ]
  },
  {
   "cell_type": "code",
   "execution_count": 8,
   "metadata": {},
   "outputs": [],
   "source": [
    "kt3_df['content_id'] = kt3_df['item_id'].str[1:]"
   ]
  },
  {
   "cell_type": "code",
   "execution_count": 9,
   "metadata": {},
   "outputs": [
    {
     "data": {
      "text/html": [
       "<div>\n",
       "<style scoped>\n",
       "    .dataframe tbody tr th:only-of-type {\n",
       "        vertical-align: middle;\n",
       "    }\n",
       "\n",
       "    .dataframe tbody tr th {\n",
       "        vertical-align: top;\n",
       "    }\n",
       "\n",
       "    .dataframe thead th {\n",
       "        text-align: right;\n",
       "    }\n",
       "</style>\n",
       "<table border=\"1\" class=\"dataframe\">\n",
       "  <thead>\n",
       "    <tr style=\"text-align: right;\">\n",
       "      <th></th>\n",
       "      <th>timestamp</th>\n",
       "      <th>solving_id</th>\n",
       "      <th>question_id</th>\n",
       "      <th>user_answer</th>\n",
       "      <th>elapsed_time</th>\n",
       "      <th>user_id</th>\n",
       "    </tr>\n",
       "  </thead>\n",
       "  <tbody>\n",
       "    <tr>\n",
       "      <th>0</th>\n",
       "      <td>1563797068117</td>\n",
       "      <td>1</td>\n",
       "      <td>q6525</td>\n",
       "      <td>b</td>\n",
       "      <td>22000</td>\n",
       "      <td>u10030</td>\n",
       "    </tr>\n",
       "    <tr>\n",
       "      <th>1</th>\n",
       "      <td>1563797093153</td>\n",
       "      <td>2</td>\n",
       "      <td>q320</td>\n",
       "      <td>b</td>\n",
       "      <td>19000</td>\n",
       "      <td>u10030</td>\n",
       "    </tr>\n",
       "    <tr>\n",
       "      <th>2</th>\n",
       "      <td>1563797107951</td>\n",
       "      <td>3</td>\n",
       "      <td>q5659</td>\n",
       "      <td>b</td>\n",
       "      <td>12000</td>\n",
       "      <td>u10030</td>\n",
       "    </tr>\n",
       "    <tr>\n",
       "      <th>3</th>\n",
       "      <td>1563797123524</td>\n",
       "      <td>4</td>\n",
       "      <td>q4842</td>\n",
       "      <td>d</td>\n",
       "      <td>13000</td>\n",
       "      <td>u10030</td>\n",
       "    </tr>\n",
       "    <tr>\n",
       "      <th>4</th>\n",
       "      <td>1563797136092</td>\n",
       "      <td>5</td>\n",
       "      <td>q3884</td>\n",
       "      <td>a</td>\n",
       "      <td>10000</td>\n",
       "      <td>u10030</td>\n",
       "    </tr>\n",
       "    <tr>\n",
       "      <th>...</th>\n",
       "      <td>...</td>\n",
       "      <td>...</td>\n",
       "      <td>...</td>\n",
       "      <td>...</td>\n",
       "      <td>...</td>\n",
       "      <td>...</td>\n",
       "    </tr>\n",
       "    <tr>\n",
       "      <th>941949</th>\n",
       "      <td>1562654085927</td>\n",
       "      <td>169</td>\n",
       "      <td>q1588</td>\n",
       "      <td>c</td>\n",
       "      <td>26666</td>\n",
       "      <td>u996</td>\n",
       "    </tr>\n",
       "    <tr>\n",
       "      <th>941950</th>\n",
       "      <td>1562654085928</td>\n",
       "      <td>169</td>\n",
       "      <td>q1589</td>\n",
       "      <td>d</td>\n",
       "      <td>26666</td>\n",
       "      <td>u996</td>\n",
       "    </tr>\n",
       "    <tr>\n",
       "      <th>941951</th>\n",
       "      <td>1562654173463</td>\n",
       "      <td>170</td>\n",
       "      <td>q2515</td>\n",
       "      <td>c</td>\n",
       "      <td>25333</td>\n",
       "      <td>u996</td>\n",
       "    </tr>\n",
       "    <tr>\n",
       "      <th>941952</th>\n",
       "      <td>1562654173503</td>\n",
       "      <td>170</td>\n",
       "      <td>q2514</td>\n",
       "      <td>a</td>\n",
       "      <td>25333</td>\n",
       "      <td>u996</td>\n",
       "    </tr>\n",
       "    <tr>\n",
       "      <th>941953</th>\n",
       "      <td>1562654173504</td>\n",
       "      <td>170</td>\n",
       "      <td>q2516</td>\n",
       "      <td>c</td>\n",
       "      <td>25333</td>\n",
       "      <td>u996</td>\n",
       "    </tr>\n",
       "  </tbody>\n",
       "</table>\n",
       "<p>941954 rows × 6 columns</p>\n",
       "</div>"
      ],
      "text/plain": [
       "            timestamp  solving_id question_id user_answer  elapsed_time  \\\n",
       "0       1563797068117           1       q6525           b         22000   \n",
       "1       1563797093153           2        q320           b         19000   \n",
       "2       1563797107951           3       q5659           b         12000   \n",
       "3       1563797123524           4       q4842           d         13000   \n",
       "4       1563797136092           5       q3884           a         10000   \n",
       "...               ...         ...         ...         ...           ...   \n",
       "941949  1562654085927         169       q1588           c         26666   \n",
       "941950  1562654085928         169       q1589           d         26666   \n",
       "941951  1562654173463         170       q2515           c         25333   \n",
       "941952  1562654173503         170       q2514           a         25333   \n",
       "941953  1562654173504         170       q2516           c         25333   \n",
       "\n",
       "       user_id  \n",
       "0       u10030  \n",
       "1       u10030  \n",
       "2       u10030  \n",
       "3       u10030  \n",
       "4       u10030  \n",
       "...        ...  \n",
       "941949    u996  \n",
       "941950    u996  \n",
       "941951    u996  \n",
       "941952    u996  \n",
       "941953    u996  \n",
       "\n",
       "[941954 rows x 6 columns]"
      ]
     },
     "execution_count": 9,
     "metadata": {},
     "output_type": "execute_result"
    }
   ],
   "source": [
    "kt1_df = pd.read_csv(\"./kt1_df.csv\")\n",
    "kt1_df"
   ]
  },
  {
   "cell_type": "code",
   "execution_count": 10,
   "metadata": {},
   "outputs": [],
   "source": [
    "kt1_df = kt1_df.drop(columns=['timestamp', 'solving_id'])"
   ]
  },
  {
   "cell_type": "code",
   "execution_count": 11,
   "metadata": {},
   "outputs": [],
   "source": [
    "# Filtrar el DataFrame df para quedarse solo con las filas cuyos user_id estén en kt1_df\n",
    "kt3_q_df_filtered = kt3_df[kt3_df['user_id'].isin(kt1_df['user_id'].unique())]"
   ]
  },
  {
   "cell_type": "markdown",
   "metadata": {},
   "source": [
    "# Unir los datasets"
   ]
  },
  {
   "cell_type": "code",
   "execution_count": 12,
   "metadata": {},
   "outputs": [
    {
     "data": {
      "text/html": [
       "<div>\n",
       "<style scoped>\n",
       "    .dataframe tbody tr th:only-of-type {\n",
       "        vertical-align: middle;\n",
       "    }\n",
       "\n",
       "    .dataframe tbody tr th {\n",
       "        vertical-align: top;\n",
       "    }\n",
       "\n",
       "    .dataframe thead th {\n",
       "        text-align: right;\n",
       "    }\n",
       "</style>\n",
       "<table border=\"1\" class=\"dataframe\">\n",
       "  <thead>\n",
       "    <tr style=\"text-align: right;\">\n",
       "      <th></th>\n",
       "      <th>timestamp</th>\n",
       "      <th>item_id</th>\n",
       "      <th>user_answer</th>\n",
       "      <th>user_id</th>\n",
       "      <th>content_type</th>\n",
       "      <th>bundle_id</th>\n",
       "      <th>answered_correctly</th>\n",
       "      <th>content_id</th>\n",
       "      <th>elapsed_time</th>\n",
       "    </tr>\n",
       "  </thead>\n",
       "  <tbody>\n",
       "    <tr>\n",
       "      <th>0</th>\n",
       "      <td>1567396097400</td>\n",
       "      <td>q921</td>\n",
       "      <td>c</td>\n",
       "      <td>u10030</td>\n",
       "      <td>q</td>\n",
       "      <td>b921</td>\n",
       "      <td>0.0</td>\n",
       "      <td>921</td>\n",
       "      <td>NaN</td>\n",
       "    </tr>\n",
       "    <tr>\n",
       "      <th>1</th>\n",
       "      <td>1567396102402</td>\n",
       "      <td>q921</td>\n",
       "      <td>a</td>\n",
       "      <td>u10030</td>\n",
       "      <td>q</td>\n",
       "      <td>b921</td>\n",
       "      <td>0.0</td>\n",
       "      <td>921</td>\n",
       "      <td>20000.0</td>\n",
       "    </tr>\n",
       "    <tr>\n",
       "      <th>2</th>\n",
       "      <td>1567396112987</td>\n",
       "      <td>e921</td>\n",
       "      <td>NaN</td>\n",
       "      <td>u10030</td>\n",
       "      <td>e</td>\n",
       "      <td>NaN</td>\n",
       "      <td>NaN</td>\n",
       "      <td>921</td>\n",
       "      <td>NaN</td>\n",
       "    </tr>\n",
       "    <tr>\n",
       "      <th>3</th>\n",
       "      <td>1567396132608</td>\n",
       "      <td>q1240</td>\n",
       "      <td>c</td>\n",
       "      <td>u10030</td>\n",
       "      <td>q</td>\n",
       "      <td>b1240</td>\n",
       "      <td>0.0</td>\n",
       "      <td>1240</td>\n",
       "      <td>17000.0</td>\n",
       "    </tr>\n",
       "    <tr>\n",
       "      <th>4</th>\n",
       "      <td>1567396154846</td>\n",
       "      <td>q589</td>\n",
       "      <td>b</td>\n",
       "      <td>u10030</td>\n",
       "      <td>q</td>\n",
       "      <td>b589</td>\n",
       "      <td>0.0</td>\n",
       "      <td>589</td>\n",
       "      <td>19000.0</td>\n",
       "    </tr>\n",
       "    <tr>\n",
       "      <th>...</th>\n",
       "      <td>...</td>\n",
       "      <td>...</td>\n",
       "      <td>...</td>\n",
       "      <td>...</td>\n",
       "      <td>...</td>\n",
       "      <td>...</td>\n",
       "      <td>...</td>\n",
       "      <td>...</td>\n",
       "      <td>...</td>\n",
       "    </tr>\n",
       "    <tr>\n",
       "      <th>1318229</th>\n",
       "      <td>1562669558978</td>\n",
       "      <td>e5194</td>\n",
       "      <td>NaN</td>\n",
       "      <td>u996</td>\n",
       "      <td>e</td>\n",
       "      <td>NaN</td>\n",
       "      <td>NaN</td>\n",
       "      <td>5194</td>\n",
       "      <td>NaN</td>\n",
       "    </tr>\n",
       "    <tr>\n",
       "      <th>1318230</th>\n",
       "      <td>1562669592456</td>\n",
       "      <td>q6641</td>\n",
       "      <td>a</td>\n",
       "      <td>u996</td>\n",
       "      <td>q</td>\n",
       "      <td>b5107</td>\n",
       "      <td>1.0</td>\n",
       "      <td>6641</td>\n",
       "      <td>NaN</td>\n",
       "    </tr>\n",
       "    <tr>\n",
       "      <th>1318231</th>\n",
       "      <td>1562669622801</td>\n",
       "      <td>q6642</td>\n",
       "      <td>c</td>\n",
       "      <td>u996</td>\n",
       "      <td>q</td>\n",
       "      <td>b5107</td>\n",
       "      <td>1.0</td>\n",
       "      <td>6642</td>\n",
       "      <td>NaN</td>\n",
       "    </tr>\n",
       "    <tr>\n",
       "      <th>1318232</th>\n",
       "      <td>1562669644966</td>\n",
       "      <td>q6643</td>\n",
       "      <td>c</td>\n",
       "      <td>u996</td>\n",
       "      <td>q</td>\n",
       "      <td>b5107</td>\n",
       "      <td>0.0</td>\n",
       "      <td>6643</td>\n",
       "      <td>NaN</td>\n",
       "    </tr>\n",
       "    <tr>\n",
       "      <th>1318233</th>\n",
       "      <td>1562669675599</td>\n",
       "      <td>q6644</td>\n",
       "      <td>a</td>\n",
       "      <td>u996</td>\n",
       "      <td>q</td>\n",
       "      <td>b5107</td>\n",
       "      <td>0.0</td>\n",
       "      <td>6644</td>\n",
       "      <td>NaN</td>\n",
       "    </tr>\n",
       "  </tbody>\n",
       "</table>\n",
       "<p>1318234 rows × 9 columns</p>\n",
       "</div>"
      ],
      "text/plain": [
       "             timestamp item_id user_answer user_id content_type bundle_id  \\\n",
       "0        1567396097400    q921           c  u10030            q      b921   \n",
       "1        1567396102402    q921           a  u10030            q      b921   \n",
       "2        1567396112987    e921         NaN  u10030            e       NaN   \n",
       "3        1567396132608   q1240           c  u10030            q     b1240   \n",
       "4        1567396154846    q589           b  u10030            q      b589   \n",
       "...                ...     ...         ...     ...          ...       ...   \n",
       "1318229  1562669558978   e5194         NaN    u996            e       NaN   \n",
       "1318230  1562669592456   q6641           a    u996            q     b5107   \n",
       "1318231  1562669622801   q6642           c    u996            q     b5107   \n",
       "1318232  1562669644966   q6643           c    u996            q     b5107   \n",
       "1318233  1562669675599   q6644           a    u996            q     b5107   \n",
       "\n",
       "         answered_correctly content_id  elapsed_time  \n",
       "0                       0.0        921           NaN  \n",
       "1                       0.0        921       20000.0  \n",
       "2                       NaN        921           NaN  \n",
       "3                       0.0       1240       17000.0  \n",
       "4                       0.0        589       19000.0  \n",
       "...                     ...        ...           ...  \n",
       "1318229                 NaN       5194           NaN  \n",
       "1318230                 1.0       6641           NaN  \n",
       "1318231                 1.0       6642           NaN  \n",
       "1318232                 0.0       6643           NaN  \n",
       "1318233                 0.0       6644           NaN  \n",
       "\n",
       "[1318234 rows x 9 columns]"
      ]
     },
     "execution_count": 12,
     "metadata": {},
     "output_type": "execute_result"
    }
   ],
   "source": [
    "kt3_q_df_filtered = kt3_q_df_filtered.rename(columns={\"item_id\": \"question_id\"})\n",
    "merged_df = pd.merge(\n",
    "    kt3_q_df_filtered, kt1_df, on=[\"user_id\", \"question_id\", \"user_answer\"], how=\"left\"\n",
    ")\n",
    "merged_df = merged_df.rename(columns={'question_id': 'item_id'})\n",
    "merged_df"
   ]
  },
  {
   "cell_type": "code",
   "execution_count": 13,
   "metadata": {},
   "outputs": [
    {
     "data": {
      "text/plain": [
       "content_type\n",
       "q    811491\n",
       "e    471295\n",
       "l     35448\n",
       "Name: count, dtype: int64"
      ]
     },
     "execution_count": 13,
     "metadata": {},
     "output_type": "execute_result"
    }
   ],
   "source": [
    "merged_df.content_type.value_counts()"
   ]
  },
  {
   "cell_type": "code",
   "execution_count": 14,
   "metadata": {},
   "outputs": [
    {
     "data": {
      "text/plain": [
       "8758"
      ]
     },
     "execution_count": 14,
     "metadata": {},
     "output_type": "execute_result"
    }
   ],
   "source": [
    "len(merged_df['user_id'].unique())"
   ]
  },
  {
   "cell_type": "code",
   "execution_count": 15,
   "metadata": {},
   "outputs": [],
   "source": [
    "merged_df.loc[merged_df[\"content_type\"].isin([\"l\", \"e\"]), \"answered_correctly\"] = -1\n",
    "merged_df.loc[merged_df[\"content_type\"].isin([\"l\", \"e\"]), \"user_answer\"] = -1\n",
    "merged_df.loc[merged_df[\"content_type\"].isin([\"l\", \"e\"]), \"elapsed_time\"] = -1"
   ]
  },
  {
   "cell_type": "markdown",
   "metadata": {},
   "source": [
    "# Crear Ednet dataset"
   ]
  },
  {
   "cell_type": "markdown",
   "metadata": {},
   "source": [
    "## Seleccionar una parte del dataset"
   ]
  },
  {
   "cell_type": "code",
   "execution_count": 17,
   "metadata": {},
   "outputs": [
    {
     "data": {
      "text/plain": [
       "(30771, 9)"
      ]
     },
     "execution_count": 17,
     "metadata": {},
     "output_type": "execute_result"
    }
   ],
   "source": [
    "user_ids = merged_df['user_id'].unique()\n",
    "\n",
    "# Seleccionar 100 usuarios al azar\n",
    "selected_user_ids = random.sample(list(user_ids), 200)\n",
    "df = merged_df[merged_df['user_id'].isin(selected_user_ids)]\n",
    "df.shape"
   ]
  },
  {
   "cell_type": "markdown",
   "metadata": {},
   "source": [
    "## Crear columnas nuevas"
   ]
  },
  {
   "cell_type": "markdown",
   "metadata": {},
   "source": [
    "### `bundle_had_explanation`\n",
    "(bool): Indica si el usuario vio una explicación después de responder al lote de preguntas anterior (`bundle_id`), ignorando cualquier lección entre medio. El valor se comparte a través del mismo lote de preguntas y es nulo para el primer lote de preguntas de un usuario. Generalmente, las primeras preguntas que ve un usuario forman parte de una prueba de diagnóstico inicial en la que no recibieron retroalimentación."
   ]
  },
  {
   "cell_type": "code",
   "execution_count": 18,
   "metadata": {},
   "outputs": [],
   "source": [
    "df = df.sort_values(by=[\"user_id\", \"timestamp\"])\n",
    "\n",
    "# Definimos una función para obtener el bundle anterior con una explicación\n",
    "def has_seen_explanation(row, df):\n",
    "    # Filtramos los registros anteriores del mismo usuario\n",
    "    previous_rows = df[(df['user_id'] == row['user_id']) & \n",
    "                        (df['timestamp'] < row['timestamp'])]\n",
    "    \n",
    "    # Buscamos si en los registros anteriores existe una explicación ('e')\n",
    "    # donde el item_id tiene el mismo número que el bundle_id actual.\n",
    "    for idx, previous_row in previous_rows[::-1].iterrows():  # Iterar en orden inverso\n",
    "        if previous_row['content_type'] == 'e':\n",
    "            # Comprobar si el número de item_id (explicación eXXXX) coincide con bundle_id (bXXXX)\n",
    "            if previous_row['item_id'][1:] == row['bundle_id'][1:]:\n",
    "                return True  # Explicación encontrada\n",
    "        if previous_row['content_type'] == 'q':\n",
    "            break  # Detenerse si encontramos otra pregunta antes de una explicación\n",
    "    return False\n",
    "\n",
    "# Aplicamos la función a las filas de preguntas (content_type == 'q')\n",
    "df['bundle_had_explanation'] = df.apply(\n",
    "    lambda row: has_seen_explanation(row, df) if row['content_type'] == 'q' else None,\n",
    "    axis=1\n",
    ")"
   ]
  },
  {
   "cell_type": "markdown",
   "metadata": {},
   "source": [
    "### `prior_question_elapsed_time` \n",
    "(float32): El tiempo promedio en milisegundos que tardó un usuario en responder cada pregunta en el lote de preguntas anterior, ignorando cualquier lección entre medio (es nulo para el primer lote de preguntas)."
   ]
  },
  {
   "cell_type": "code",
   "execution_count": 19,
   "metadata": {},
   "outputs": [],
   "source": [
    "df = df.sort_values(by=[\"user_id\", \"timestamp\"])\n",
    "\n",
    "if \"content_type\" in df.columns:\n",
    "    merged_df_questions = df[df[\"content_type\"] == \"q\"].copy()\n",
    "else:\n",
    "    merged_df_questions = df.copy()\n",
    "\n",
    "# Calcular el tiempo promedio por bundle para cada usuario\n",
    "merged_df_questions[\"avg_time_per_bundle\"] = merged_df_questions.groupby(\n",
    "    [\"user_id\", \"bundle_id\"]\n",
    ")[\"elapsed_time\"].transform(\"mean\")\n",
    "\n",
    "merged_df_questions = merged_df_questions.sort_values(by=[\"user_id\", \"timestamp\"])\n",
    "\n",
    "# Obtener el tiempo promedio del bundle anterior\n",
    "merged_df_questions[\"prior_question_elapsed_time\"] = merged_df_questions.groupby(\n",
    "    \"user_id\"\n",
    ")[\"avg_time_per_bundle\"].shift()\n",
    "merged_df_questions = merged_df_questions.drop(columns=[\"avg_time_per_bundle\"])\n",
    "\n",
    "# Actualizar el dataframe original directamente\n",
    "df[\"prior_question_elapsed_time\"] = np.nan\n",
    "df.loc[merged_df_questions.index, \"prior_question_elapsed_time\"] = (\n",
    "    merged_df_questions[\"prior_question_elapsed_time\"]\n",
    ")\n",
    "df[\"prior_question_elapsed_time\"] = df[\n",
    "    \"prior_question_elapsed_time\"\n",
    "].astype(\"float32\")\n",
    "\n",
    "df = df.sort_values(by=['user_id', 'timestamp'])"
   ]
  },
  {
   "cell_type": "markdown",
   "metadata": {},
   "source": [
    "### `cumulative_correct_answers`\n",
    "(int): El número acumulado de respuestas correctas que ha tenido el estudiante hasta ese momento. Aporta un indicador directo de cuánto ha acertado el estudiante hasta esa interacción, lo que puede ayudar a predecir su desempeño futuro."
   ]
  },
  {
   "cell_type": "code",
   "execution_count": 20,
   "metadata": {},
   "outputs": [],
   "source": [
    "df = df.sort_values(by=[\"user_id\", \"timestamp\"])\n",
    "\n",
    "mask = df[\"content_type\"] == \"q\"\n",
    "\n",
    "df.loc[mask, \"cumulative_correct_answers\"] = (\n",
    "    df[mask]\n",
    "    .sort_values(by=[\"user_id\", \"timestamp\"])\n",
    "    .groupby(\"user_id\")[\"answered_correctly\"]\n",
    "    .cumsum()\n",
    ")\n",
    "df.loc[~mask, \"cumulative_correct_answers\"] = None"
   ]
  },
  {
   "cell_type": "markdown",
   "metadata": {},
   "source": [
    "### `recent_accuracy` \n",
    "(float): La precisión reciente del estudiante (en las últimas 5 preguntas), calculada como el porcentaje de respuestas correctas en un intervalo corto de tiempo. Este indicador puede ser útil para medir el \"momentum\" del estudiante, es decir, si está mejorando o empeorando en su desempeño."
   ]
  },
  {
   "cell_type": "code",
   "execution_count": 21,
   "metadata": {},
   "outputs": [],
   "source": [
    "df = df.sort_values(by=[\"user_id\", \"timestamp\"])\n",
    "\n",
    "mask = df[\"content_type\"] == \"q\"\n",
    "\n",
    "df = df.sort_values(by=[\"user_id\", \"timestamp\"])\n",
    "\n",
    "df.loc[mask, \"recent_accuracy\"] = (\n",
    "    df[mask].groupby(\"user_id\")[\"answered_correctly\"]\n",
    "    .rolling(window=5, min_periods=1)\n",
    "    .mean()\n",
    "    .reset_index(level=0, drop=True)\n",
    ")\n",
    "df.loc[~mask, \"recent_accuracy\"] = None\n"
   ]
  },
  {
   "cell_type": "markdown",
   "metadata": {},
   "source": [
    "### `cumulative_explanations_seen`\n",
    "(int): El número acumulado de explicaciones que ha visto el estudiante hasta ese momento. Este valor puede correlacionarse con una mejor comprensión de los contenidos si el estudiante tiende a consultar explicaciones con frecuencia."
   ]
  },
  {
   "cell_type": "code",
   "execution_count": 22,
   "metadata": {},
   "outputs": [],
   "source": [
    "df = df.sort_values(by=[\"user_id\", \"timestamp\"])\n",
    "\n",
    "df[\"cumulative_explanations_seen\"] = (\n",
    "    df[df[\"content_type\"] == \"e\"].groupby(\"user_id\").cumcount() + 1\n",
    ")\n",
    "\n",
    "df[\"cumulative_explanations_seen\"] = (\n",
    "    df.groupby(\"user_id\")[\"cumulative_explanations_seen\"].ffill().fillna(0).astype(int)\n",
    ")"
   ]
  },
  {
   "cell_type": "markdown",
   "metadata": {},
   "source": [
    "### `cumulative_lectures_seen`\n",
    "(int): El número acumulado de lecciones que ha visto el estudiante hasta ese momento.\n",
    "Este valor puede correlacionarse con una mejor comprensión de los contenidos si el estudiante tiende a consultar lecciones con frecuencia."
   ]
  },
  {
   "cell_type": "code",
   "execution_count": 23,
   "metadata": {},
   "outputs": [],
   "source": [
    "df = df.sort_values(by=[\"user_id\", \"timestamp\"])\n",
    "\n",
    "df[\"cumulative_lectures_seen\"] = (\n",
    "    df[df[\"content_type\"] == \"l\"].groupby(\"user_id\").cumcount() + 1\n",
    ")\n",
    "\n",
    "df[\"cumulative_lectures_seen\"] = (\n",
    "    df.groupby(\"user_id\")[\"cumulative_lectures_seen\"].ffill().fillna(0).astype(int)\n",
    ")"
   ]
  },
  {
   "cell_type": "markdown",
   "metadata": {},
   "source": [
    "### `cumulative_responses_by_bundle`\n",
    "(int): El número acumulado de preguntas respondidas por cada lote para cada estudiante.  "
   ]
  },
  {
   "cell_type": "code",
   "execution_count": 24,
   "metadata": {},
   "outputs": [],
   "source": [
    "df = df.sort_values(by=[\"user_id\", \"timestamp\"])\n",
    "\n",
    "questions_df = df[df[\"content_type\"] == \"q\"].copy()\n",
    "\n",
    "df[\"cumulative_responses_by_bundle\"] = (\n",
    "    df[df[\"content_type\"] == \"q\"].groupby([\"user_id\", \"bundle_id\"]).cumcount() + 1\n",
    ")"
   ]
  },
  {
   "cell_type": "markdown",
   "metadata": {},
   "source": [
    "# Guardar Ednet dataset"
   ]
  },
  {
   "cell_type": "code",
   "execution_count": 25,
   "metadata": {},
   "outputs": [],
   "source": [
    "# Filtrar cuando content_type es \"e\" o \"l\" y actualizar bundle_id\n",
    "mask = df[\"content_type\"].isin([\"e\", \"l\"])\n",
    "df.loc[mask, \"bundle_id\"] = \"b\" + df.loc[mask, \"content_id\"].astype(str)"
   ]
  },
  {
   "cell_type": "code",
   "execution_count": 26,
   "metadata": {},
   "outputs": [],
   "source": [
    "df.to_csv('./ednet_dataset.csv', index=False)"
   ]
  }
 ],
 "metadata": {
  "kernelspec": {
   "display_name": "nlp_course",
   "language": "python",
   "name": "python3"
  },
  "language_info": {
   "codemirror_mode": {
    "name": "ipython",
    "version": 3
   },
   "file_extension": ".py",
   "mimetype": "text/x-python",
   "name": "python",
   "nbconvert_exporter": "python",
   "pygments_lexer": "ipython3",
   "version": "3.10.13"
  }
 },
 "nbformat": 4,
 "nbformat_minor": 2
}
